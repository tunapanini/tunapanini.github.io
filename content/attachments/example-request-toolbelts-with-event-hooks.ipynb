{
 "cells": [
  {
   "cell_type": "code",
   "execution_count": 17,
   "metadata": {},
   "outputs": [
    {
     "name": "stdout",
     "output_type": "stream",
     "text": [
      "Requirement already satisfied: requests-toolbelt in /Users/tunapanini/.pyenv/versions/3.11.4/lib/python3.11/site-packages (1.0.0)\n",
      "Requirement already satisfied: requests<3.0.0,>=2.0.1 in /Users/tunapanini/.pyenv/versions/3.11.4/lib/python3.11/site-packages (from requests-toolbelt) (2.31.0)\n",
      "Requirement already satisfied: charset-normalizer<4,>=2 in /Users/tunapanini/.pyenv/versions/3.11.4/lib/python3.11/site-packages (from requests<3.0.0,>=2.0.1->requests-toolbelt) (3.2.0)\n",
      "Requirement already satisfied: idna<4,>=2.5 in /Users/tunapanini/.pyenv/versions/3.11.4/lib/python3.11/site-packages (from requests<3.0.0,>=2.0.1->requests-toolbelt) (3.4)\n",
      "Requirement already satisfied: urllib3<3,>=1.21.1 in /Users/tunapanini/.pyenv/versions/3.11.4/lib/python3.11/site-packages (from requests<3.0.0,>=2.0.1->requests-toolbelt) (2.0.4)\n",
      "Requirement already satisfied: certifi>=2017.4.17 in /Users/tunapanini/.pyenv/versions/3.11.4/lib/python3.11/site-packages (from requests<3.0.0,>=2.0.1->requests-toolbelt) (2023.7.22)\n"
     ]
    }
   ],
   "source": [
    "! pip install requests-toolbelt"
   ]
  },
  {
   "cell_type": "code",
   "execution_count": 18,
   "metadata": {},
   "outputs": [
    {
     "name": "stdout",
     "output_type": "stream",
     "text": [
      "< POST /fact HTTP/1.1\n",
      "< Host: catfact.ninja\n",
      "< User-Agent: python-requests/2.31.0\n",
      "< Accept-Encoding: gzip, deflate\n",
      "< Accept: */*\n",
      "< Connection: keep-alive\n",
      "< Content-Length: 0\n",
      "< \n",
      "\n",
      "> HTTP/1.1 404 Not Found\n",
      "> Server: nginx\n",
      "> Date: Sun, 01 Sep 2024 13:26:24 GMT\n",
      "> Content-Type: application/json\n",
      "> Content-Length: 34\n",
      "> Connection: keep-alive\n",
      "> Cache-Control: no-cache, private\n",
      "> Access-Control-Allow-Origin: *\n",
      "> \n",
      "{\"message\":\"Not Found\",\"code\":404}\n"
     ]
    }
   ],
   "source": [
    "import requests\n",
    "\n",
    "\n",
    "session = requests.Session()\n",
    "\n",
    "# dump_all() 유틸로 로깅(print)하는 메서드를 만듬\n",
    "def logging_hook(response, *args, **kwargs):\n",
    "\tfrom requests_toolbelt.utils import dump\n",
    "\tdata = dump.dump_all(response)\n",
    "\tprint(data.decode('utf-8'))\n",
    "\n",
    "# requests 세션 이벤트 훅으로 추가\n",
    "session.hooks[\"response\"].append(logging_hook)\n",
    "\n",
    "url = 'https://catfact.ninja/fact'\n",
    "response = session.post(url=url)\n"
   ]
  },
  {
   "cell_type": "code",
   "execution_count": 19,
   "metadata": {},
   "outputs": [
    {
     "name": "stdout",
     "output_type": "stream",
     "text": [
      "< GET /fact HTTP/1.1\n",
      "< Host: catfact.ninja\n",
      "< User-Agent: python-requests/2.31.0\n",
      "< Accept-Encoding: gzip, deflate\n",
      "< Accept: */*\n",
      "< Connection: keep-alive\n",
      "< \n",
      "\n",
      "> HTTP/1.1 200 OK\n",
      "> Server: nginx\n",
      "> Date: Sun, 01 Sep 2024 13:26:25 GMT\n",
      "> Content-Type: application/json\n",
      "> Content-Length: 89\n",
      "> Connection: keep-alive\n",
      "> Cache-Control: no-cache, private\n",
      "> X-Ratelimit-Limit: 100\n",
      "> X-Ratelimit-Remaining: 99\n",
      "> Access-Control-Allow-Origin: *\n",
      "> Set-Cookie: XSRF-TOKEN=eyJpdiI6ImVpWlBkZkRicHpiblBPZytCYnJTTkE9PSIsInZhbHVlIjoiTVhqMHVrRmhrazJtQS9qMHdLb0pRSHBGQTkyeldQN0U1SW1rNnZ4eWwzYnpuK2dyWUs5SnB2Z1RLZ2F2ejdwTjluM1cydWd4OUFMSDlVYTJPblpFZ2RXTUJqZGhkaERLVHJlVUJRUzl2dUMyemRvcTI0cGZGRVlkWFAzcmZwT1EiLCJtYWMiOiI2OGJmYzkyNTZkNjFiMGRkYjQ4Zjc4ODk2MTIzNmFjZjMyNjYxN2VkNWFlOGRkMTU0MGFlYmEyOThmNjBmYWYxIiwidGFnIjoiIn0%3D; expires=Sun, 01-Sep-2024 15:26:25 GMT; Max-Age=7200; path=/; secure; samesite=lax\n",
      "> Set-Cookie: catfacts_session=eyJpdiI6InlwUUxHZUZMN0xqL1ZCd2NGMks2TlE9PSIsInZhbHVlIjoiUDJvSm5TUXNqV0NsdkdhYzdTVXRPWHlFYXpkVXpiQXA5ZUZsa1AraTN3bW5YVGpRbkd6VVpqVXM5QkEvYmxmbFlSTERlbCtZY3ZMSGFxbkFHQTBkcDlZWFYrZ2xnaGc5VUJraXZBL0FnQXQ4V1NBWnQzaXFaV0NDUitDUk1vWnAiLCJtYWMiOiJhNmY5ODJhZmY1Y2ZlYWM4MDU3MTkwZDBlZDdlNWVlNWM2YzY3OGU5ZjI4YTQxZTY1MzhlZjk3NjY5NTAxMDNmIiwidGFnIjoiIn0%3D; expires=Sun, 01-Sep-2024 15:26:25 GMT; Max-Age=7200; path=/; httponly; samesite=lax\n",
      "> Set-Cookie: UeGKWXARls1xMnQuEcd7keqdv2fiUMRLPnAs7ZGE=eyJpdiI6IjRyNytiZU9HYmZsMlhoL1FROUdvTmc9PSIsInZhbHVlIjoidDFyejZyMTgrTXlSd0EzVzUzTHhZbGhRTUNQSXZiV3MyOWdJMUdzTmJHMkticTArSGF2djRJQXBBa0ZmRit6Q1NGNC9FUUJXZGY0YVU4QXAvaTJBYVVJSCthZFNGOXAxZ1V4VVZuTm5oWEQ2d3F4MjVpRzl2VG1wSEpsY3piT0poZDFScEM3bU9HMWsvYTl5VDFjdFVUOVluWEtvMzRJSmNSREJCTEtXbnVWUFNMbFRBd0JEanFOV05HS1dxT1orcCtyQnI5bkd2L1dVYU1VSk1sL0V4R3pCa2xTMThkNkNwYjJaWWtSS2x1SXhNaUNsWnpmcWwrU2VlUHEybmsrUEFCUTFGQ1VxNWw5NGZrZTh3WUZ3QWdMdnN2aGZDRng3Wm1rOEdTSFd5ZlE0MFpNSFRHc3ZCUHI0cTMyWmEyWXl6cGNEd29RcWhRcDFTcWxuRlFKclVYRERIaHhXOGxyck1rcjl4THdYMHRWNWxUalJ3d2tKS1MySkVTZU9pZ2VmIiwibWFjIjoiMGZhNDEwN2M4ODE2YTZmMDc1NDcwYzRhNDQyOGZmMjYwMDFkNzMwMzIyNzQ3ZmRjOTJjMmJiN2RmZGJmNDY2MiIsInRhZyI6IiJ9; expires=Sun, 01-Sep-2024 15:26:25 GMT; Max-Age=7200; path=/; secure; httponly; samesite=lax\n",
      "> X-Frame-Options: SAMEORIGIN\n",
      "> X-XSS-Protection: 1; mode=block\n",
      "> X-Content-Type-Options: nosniff\n",
      "> \n",
      "{\"fact\":\"A healthy cat has a temperature between 38 and 39 degrees Celcius.\",\"length\":66}\n"
     ]
    }
   ],
   "source": [
    "url = 'https://catfact.ninja/fact'\n",
    "\n",
    "response = requests.get(url=url, hooks={'response': logging_hook})"
   ]
  }
 ],
 "metadata": {
  "kernelspec": {
   "display_name": "Python 3",
   "language": "python",
   "name": "python3"
  },
  "language_info": {
   "codemirror_mode": {
    "name": "ipython",
    "version": 3
   },
   "file_extension": ".py",
   "mimetype": "text/x-python",
   "name": "python",
   "nbconvert_exporter": "python",
   "pygments_lexer": "ipython3",
   "version": "3.11.4"
  }
 },
 "nbformat": 4,
 "nbformat_minor": 2
}
